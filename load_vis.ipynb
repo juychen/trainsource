{
 "cells": [
  {
   "cell_type": "code",
   "execution_count": 1,
   "metadata": {},
   "outputs": [],
   "source": [
    "#!/usr/bin/env python\n",
    "# coding: utf-8\n",
    "\n",
    "import argparse\n",
    "import logging\n",
    "import os\n",
    "import sys\n",
    "import time\n",
    "from decimal import Decimal\n",
    "\n",
    "import numpy as np\n",
    "import pandas as pd\n",
    "import scanpy as sc\n",
    "import torch\n",
    "from captum.attr import IntegratedGradients\n",
    "from numpy.lib.function_base import gradient\n",
    "from sklearn import preprocessing\n",
    "from sklearn.manifold import TSNE\n",
    "from sklearn.metrics import (auc, average_precision_score,\n",
    "                             classification_report, mean_squared_error,\n",
    "                             precision_recall_curve, r2_score, roc_auc_score)\n",
    "from sklearn.metrics.cluster import adjusted_rand_score\n",
    "from sklearn.model_selection import train_test_split\n",
    "from sklearn.preprocessing import LabelEncoder\n",
    "from torch import nn, optim\n",
    "from torch.optim import lr_scheduler\n",
    "from torch.utils.data import DataLoader, TensorDataset\n",
    "from scipy.stats import pearsonr\n",
    "import DaNN.mmd as mmd\n",
    "import scanpypip.preprocessing as pp\n",
    "import trainers as t\n",
    "import utils as ut\n",
    "from models import (AEBase, CVAEBase, DaNN, Predictor, PretrainedPredictor,\n",
    "                    PretrainedVAEPredictor, TargetModel, VAEBase)\n",
    "from scanpypip.utils import get_de_dataframe\n",
    "from trajectory import trajectory\n",
    "from sklearn.feature_selection import SelectKBest,SelectFdr\n",
    "from sklearn.feature_selection import chi2\n",
    "\n",
    "DATA_MAP={\n",
    "\"GSE117872\":\"data/GSE117872/GSE117872_good_Data_TPM.txt\",\n",
    "\"GSE117309\":'data/GSE117309/filtered_gene_bc_matrices_HBCx-22/hg19/',\n",
    "\"GSE117309_TAMR\":'data/GSE117309/filtered_gene_bc_matrices_HBCx22-TAMR/hg19/',\n",
    "\"GSE121107\":'data/GSE121107/GSM3426289_untreated_out_gene_exon_tagged.dge.txt',\n",
    "\"GSE121107_1H\":'data/GSE121107/GSM3426290_entinostat_1hr_out_gene_exon_tagged.dge.txt',\n",
    "\"GSE121107_6H\":'data/GSE121107/GSM3426291_entinostat_6hr_out_gene_exon_tagged.dge.txt',\n",
    "\"GSE111014\":'data/GSE111014/',\n",
    "\"GSE110894\":\"data/GSE110894/GSE110894.csv\",\n",
    "\"GSE122843\":\"data/GSE122843/GSE122843.txt\",\n",
    "\"GSE112274\":\"data/GSE112274/GSE112274_cell_gene_FPKM.csv\",\n",
    "\"GSE116237\":\"data/GSE116237/GSE116237_bulkRNAseq_expressionMatrix.txt\",\n",
    "\"GSE108383\":\"data/GSE108383/GSE108383_Melanoma_fluidigm.txt\",\n",
    "\"GSE140440\":\"data/GSE140440/GSE140440.csv\",\n",
    "\"GSE129730\":\"data/GSE129730/GSE129730.h5ad\",\n",
    "\"GSE149383\":\"data/GSE149383/erl_total_data_2K.csv\",\n",
    "\"GSE110894_small\":\"data/GSE110894/GSE110894_small.h5ad\"\n",
    "}"
   ]
  },
  {
   "cell_type": "code",
   "execution_count": 2,
   "metadata": {},
   "outputs": [
    {
     "name": "stdout",
     "output_type": "stream",
     "text": [
      "GSE117872\n",
      "GSE117309\n",
      "GSE117309_TAMR\n",
      "GSE121107\n",
      "GSE121107_1H\n",
      "GSE121107_6H\n",
      "GSE111014\n",
      "GSE110894\n",
      "GSE122843\n",
      "GSE112274\n",
      "GSE116237\n",
      "GSE108383\n",
      "GSE140440\n",
      "GSE129730\n",
      "GSE149383\n",
      "GSE110894_small\n"
     ]
    }
   ],
   "source": [
    "for i in DATA_MAP:\n",
    "    print(i)"
   ]
  },
  {
   "cell_type": "markdown",
   "metadata": {},
   "source": [
    "# Load arguments"
   ]
  },
  {
   "cell_type": "code",
   "execution_count": 3,
   "metadata": {},
   "outputs": [],
   "source": [
    "parser = argparse.ArgumentParser()\n",
    "# data \n",
    "parser.add_argument('--source_data', type=str, default='data/GDSC2_expression.csv')\n",
    "parser.add_argument('--label_path', type=str, default='data/GDSC2_label_9drugs_binary.csv')\n",
    "parser.add_argument('--target_data', type=str, default=\"GSE110894\")\n",
    "parser.add_argument('--drug', type=str, default='I-BET-762')\n",
    "parser.add_argument('--missing_value', type=int, default=1)\n",
    "parser.add_argument('--test_size', type=float, default=0.2)\n",
    "parser.add_argument('--valid_size', type=float, default=0.2)\n",
    "parser.add_argument('--var_genes_disp', type=float, default=0)\n",
    "parser.add_argument('--min_n_genes', type=int, default=0)\n",
    "parser.add_argument('--max_n_genes', type=int, default=20000)\n",
    "parser.add_argument('--min_g', type=int, default=200)\n",
    "parser.add_argument('--min_c', type=int, default=3)\n",
    "parser.add_argument('--cluster_res', type=float, default=0.3)\n",
    "parser.add_argument('--remove_genes', type=int, default=1)\n",
    "parser.add_argument('--mmd_weight', type=float, default=0.25)\n",
    "\n",
    "# train\n",
    "parser.add_argument('--source_model_path','-s', type=str, default='saved/models/BET_dw_256_AE.pkl')\n",
    "parser.add_argument('--target_model_path', '-p',  type=str, default='saved/models/GSE110894_I-BET-762256AE')\n",
    "parser.add_argument('--pretrain', type=str, default='saved/models/GSE110894_I-BET-762_256_ae.pkl')\n",
    "parser.add_argument('--transfer', type=str, default=\"DaNN\")\n",
    "\n",
    "parser.add_argument('--lr', type=float, default=1e-2)\n",
    "parser.add_argument('--epochs', type=int, default=500)\n",
    "parser.add_argument('--batch_size', type=int, default=200)\n",
    "parser.add_argument('--bottleneck', type=int, default=256)\n",
    "parser.add_argument('--dimreduce', type=str, default=\"AE\")\n",
    "parser.add_argument('--predictor', type=str, default=\"DNN\")\n",
    "parser.add_argument('--freeze_pretrain', type=int, default=0)\n",
    "parser.add_argument('--source_h_dims', type=str, default=\"256,256\")\n",
    "parser.add_argument('--target_h_dims', type=str, default=\"256,256\")\n",
    "parser.add_argument('--p_h_dims', type=str, default=\"128,64\")\n",
    "parser.add_argument('--predition', type=str, default=\"classification\")\n",
    "parser.add_argument('--VAErepram', type=int, default=1)\n",
    "parser.add_argument('--batch_id', type=str, default=\"HN137\")\n",
    "parser.add_argument('--load_target_model', type=int, default=0)\n",
    "parser.add_argument('--GAMMA_mmd', type=int, default=1000)\n",
    "\n",
    "parser.add_argument('--runs', type=int, default=1)\n",
    "\n",
    "# Analysis\n",
    "parser.add_argument('--n_DL_genes', type=int, default=50)\n",
    "parser.add_argument('--n_DE_genes', type=int, default=50)\n",
    "\n",
    "\n",
    "# misc\n",
    "parser.add_argument('--message', '-m',  type=str, default='message')\n",
    "parser.add_argument('--output_name', '-n',  type=str, default='saved/results')\n",
    "parser.add_argument('--logging_file', '-l',  type=str, default='saved/logs/transfer_')\n",
    "\n",
    "#\n",
    "args, unknown = parser.parse_known_args()"
   ]
  },
  {
   "cell_type": "code",
   "execution_count": 4,
   "metadata": {},
   "outputs": [],
   "source": [
    "# Read parameters\n",
    "epochs = args.epochs\n",
    "dim_au_out = args.bottleneck #8, 16, 32, 64, 128, 256,512\n",
    "na = args.missing_value\n",
    "data_path = DATA_MAP[args.target_data]\n",
    "test_size = args.test_size\n",
    "select_drug = args.drug\n",
    "freeze = args.freeze_pretrain\n",
    "valid_size = args.valid_size\n",
    "g_disperson = args.var_genes_disp\n",
    "min_n_genes = args.min_n_genes\n",
    "max_n_genes = args.max_n_genes\n",
    "source_model_path = args.source_model_path\n",
    "target_model_path = args.target_model_path \n",
    "log_path = args.logging_file\n",
    "batch_size = args.batch_size\n",
    "encoder_hdims = args.source_h_dims.split(\",\")\n",
    "encoder_hdims = list(map(int, encoder_hdims))\n",
    "source_data_path = args.source_data \n",
    "pretrain = args.pretrain\n",
    "prediction = args.predition\n",
    "data_name = args.target_data\n",
    "label_path = args.label_path\n",
    "reduce_model = args.dimreduce\n",
    "predict_hdims = args.p_h_dims.split(\",\")\n",
    "predict_hdims = list(map(int, predict_hdims))\n",
    "leiden_res = args.cluster_res\n",
    "load_model = bool(args.load_target_model)"
   ]
  },
  {
   "cell_type": "code",
   "execution_count": 5,
   "metadata": {},
   "outputs": [
    {
     "name": "stderr",
     "output_type": "stream",
     "text": [
      "Variable names are not unique. To make them unique, call `.var_names_make_unique`.\n",
      "Variable names are not unique. To make them unique, call `.var_names_make_unique`.\n",
      "Variable names are not unique. To make them unique, call `.var_names_make_unique`.\n",
      "Variable names are not unique. To make them unique, call `.var_names_make_unique`.\n",
      "Variable names are not unique. To make them unique, call `.var_names_make_unique`.\n"
     ]
    }
   ],
   "source": [
    "# Misc\n",
    "now=time.strftime(\"%Y-%m-%d-%H-%M-%S\")\n",
    "# Initialize logging and std out\n",
    "out_path = log_path+now+\".err\"\n",
    "log_path = log_path+now+\".log\"\n",
    "\n",
    "out=open(out_path,\"w\")\n",
    "sys.stderr=out\n",
    "\n",
    "#Logging infomaion\n",
    "logging.basicConfig(level=logging.INFO,\n",
    "                filename=log_path,\n",
    "                filemode='a',\n",
    "                format=\n",
    "                '%(asctime)s - %(pathname)s[line:%(lineno)d] - %(levelname)s: %(message)s'\n",
    "                )\n",
    "logging.getLogger('matplotlib.font_manager').disabled = True\n",
    "\n",
    "\n",
    "logging.info(args)\n",
    "\n",
    "# Save arguments\n",
    "#args_df = ut.save_arguments(args,now)\n",
    "################################################# END SECTION OF LOADING PARAMETERS #################################################\n",
    "\n",
    "################################################# START SECTION OF SINGLE CELL DATA REPROCESSING #################################################\n",
    "#"
   ]
  },
  {
   "cell_type": "code",
   "execution_count": 6,
   "metadata": {},
   "outputs": [
    {
     "name": "stdout",
     "output_type": "stream",
     "text": [
      "erorr in dataset  GSE110894_small\n"
     ]
    }
   ],
   "source": [
    "dim0 = []\n",
    "dim1 = []\n",
    "avg_drop = []\n",
    "data_names = []\n",
    "for d in DATA_MAP:\n",
    "    data_path = DATA_MAP[d]\n",
    "    try:\n",
    "        adata = pp.read_sc_file(data_path)\n",
    "        \n",
    "        sc.pp.filter_cells(adata, min_genes=200)\n",
    "        sc.pp.filter_genes(adata, min_cells=3)\n",
    "        adata.raw = adata\n",
    "        \n",
    "        \n",
    "        dim0.append(adata.raw.shape[0])\n",
    "        dim1.append(adata.raw.shape[1])\n",
    "\n",
    "        sc.pp.calculate_qc_metrics(adata,inplace=True)   \n",
    "        avg_drop.append(np.mean(adata.var.pct_dropout_by_counts))\n",
    "        data_names.append(d)\n",
    "\n",
    "    except:\n",
    "        print(\"erorr in dataset \",d)\n",
    "#     if data_name == 'GSE117872':\n",
    "#         adata =  ut.specific_process(adata,dataname=data_name,select_origin=args.batch_id)\n",
    "#     elif data_name =='GSE122843':\n",
    "#         adata =  ut.specific_process(adata,dataname=data_name)\n",
    "#     elif data_name =='GSE110894':\n",
    "#         adata =  ut.specific_process(adata,dataname=data_name)\n",
    "#     elif data_name =='GSE112274':\n",
    "#         adata =  ut.specific_process(adata,dataname=data_name)\n",
    "#     elif data_name =='GSE116237':\n",
    "#         adata =  ut.specific_process(adata,dataname=data_name)\n",
    "#     elif data_name =='GSE108383':\n",
    "#         adata =  ut.specific_process(adata,dataname=data_name)\n",
    "#     elif data_name =='GSE140440':\n",
    "#         adata =  ut.specific_process(adata,dataname=data_name)\n",
    "#     elif data_name =='GSE129730':\n",
    "#         adata =  ut.specific_process(adata,dataname=data_name)\n",
    "#     elif data_name =='GSE149383':\n",
    "#         adata =  ut.specific_process(adata,dataname=data_name)\n",
    "#     else:\n",
    "#         adata=adata\n",
    "\n"
   ]
  },
  {
   "cell_type": "code",
   "execution_count": 11,
   "metadata": {},
   "outputs": [
    {
     "data": {
      "text/plain": [
       "AnnData object with n_obs × n_vars = 2730 × 18380\n",
       "    obs: 'n_genes', 'n_genes_by_counts', 'log1p_n_genes_by_counts', 'total_counts', 'log1p_total_counts', 'pct_counts_in_top_50_genes', 'pct_counts_in_top_100_genes', 'pct_counts_in_top_200_genes', 'pct_counts_in_top_500_genes'\n",
       "    var: 'n_cells', 'n_cells_by_counts', 'mean_counts', 'log1p_mean_counts', 'pct_dropout_by_counts', 'total_counts', 'log1p_total_counts'"
      ]
     },
     "execution_count": 11,
     "metadata": {},
     "output_type": "execute_result"
    }
   ],
   "source": [
    "adata"
   ]
  },
  {
   "cell_type": "code",
   "execution_count": 7,
   "metadata": {},
   "outputs": [
    {
     "data": {
      "text/plain": [
       "['GSE117872',\n",
       " 'GSE117309',\n",
       " 'GSE117309_TAMR',\n",
       " 'GSE121107',\n",
       " 'GSE121107_1H',\n",
       " 'GSE121107_6H',\n",
       " 'GSE111014',\n",
       " 'GSE110894',\n",
       " 'GSE122843',\n",
       " 'GSE112274',\n",
       " 'GSE116237',\n",
       " 'GSE108383',\n",
       " 'GSE140440',\n",
       " 'GSE129730',\n",
       " 'GSE149383']"
      ]
     },
     "execution_count": 7,
     "metadata": {},
     "output_type": "execute_result"
    }
   ],
   "source": [
    "data_names"
   ]
  },
  {
   "cell_type": "code",
   "execution_count": 8,
   "metadata": {},
   "outputs": [
    {
     "data": {
      "text/plain": [
       "[59.336375011444424,\n",
       " 85.29734034372258,\n",
       " 80.26494751303305,\n",
       " 93.09796119667314,\n",
       " 91.40423790584785,\n",
       " 92.9842869418929,\n",
       " 96.3271487526065,\n",
       " 73.17821206446034,\n",
       " 74.72669386405016,\n",
       " 71.27519862577707,\n",
       " 8.96708411836419,\n",
       " 43.59471239080312,\n",
       " 64.22213824844935,\n",
       " 92.53091791105885,\n",
       " 94.26569132716831]"
      ]
     },
     "execution_count": 8,
     "metadata": {},
     "output_type": "execute_result"
    }
   ],
   "source": [
    "avg_drop"
   ]
  },
  {
   "cell_type": "code",
   "execution_count": 9,
   "metadata": {},
   "outputs": [
    {
     "data": {
      "text/plain": [
       "[18120,\n",
       " 16130,\n",
       " 15975,\n",
       " 16441,\n",
       " 18382,\n",
       " 16456,\n",
       " 19105,\n",
       " 21182,\n",
       " 20855,\n",
       " 26981,\n",
       " 12890,\n",
       " 20225,\n",
       " 32197,\n",
       " 14725,\n",
       " 18380]"
      ]
     },
     "execution_count": 9,
     "metadata": {},
     "output_type": "execute_result"
    }
   ],
   "source": [
    "dim1"
   ]
  },
  {
   "cell_type": "code",
   "execution_count": 10,
   "metadata": {},
   "outputs": [
    {
     "data": {
      "text/plain": [
       "[1302,\n",
       " 1564,\n",
       " 753,\n",
       " 4648,\n",
       " 8015,\n",
       " 3658,\n",
       " 42675,\n",
       " 1419,\n",
       " 1496,\n",
       " 507,\n",
       " 7,\n",
       " 327,\n",
       " 324,\n",
       " 47382,\n",
       " 2730]"
      ]
     },
     "execution_count": 10,
     "metadata": {},
     "output_type": "execute_result"
    }
   ],
   "source": [
    "dim0"
   ]
  },
  {
   "cell_type": "code",
   "execution_count": null,
   "metadata": {},
   "outputs": [],
   "source": [
    "avg_drop"
   ]
  },
  {
   "cell_type": "code",
   "execution_count": null,
   "metadata": {},
   "outputs": [],
   "source": [
    "np.mean(adata.var.pct_dropout_by_counts)"
   ]
  },
  {
   "cell_type": "code",
   "execution_count": null,
   "metadata": {},
   "outputs": [],
   "source": [
    "df_stat = pd.DataFrame({\"GEO\":data_names,\"dim0\":dim0,\"dim1\":dim1,\"avg_drop\":avg_drop})"
   ]
  },
  {
   "cell_type": "code",
   "execution_count": null,
   "metadata": {},
   "outputs": [],
   "source": [
    "df_stat"
   ]
  },
  {
   "cell_type": "code",
   "execution_count": null,
   "metadata": {},
   "outputs": [],
   "source": [
    "# Show statisctic after QX\n",
    "sc.pl.violin(adata, ['n_genes_by_counts', 'total_counts', 'pct_counts_mt-'],\n",
    "            jitter=0.4, multi_panel=True,save=data_name,show=False)\n",
    "sc.pl.scatter(adata, x='total_counts', y='pct_counts_mt-',show=False)\n",
    "sc.pl.scatter(adata, x='total_counts', y='n_genes_by_counts',show=False)\n",
    "\n",
    "if args.remove_genes == 0:\n",
    "    r_genes = []\n",
    "else:\n",
    "    r_genes = REMOVE_GENES\n",
    "#Preprocess data by filtering\n",
    "if data_name not in ['GSE112274','GSE140440']:\n",
    "    adata = pp.receipe_my(adata,l_n_genes=min_n_genes,r_n_genes=max_n_genes,filter_mincells=args.min_c,\n",
    "                        filter_mingenes=args.min_g,normalize=True,log=True,remove_genes=r_genes)\n",
    "else:\n",
    "    adata = pp.receipe_my(adata,l_n_genes=min_n_genes,r_n_genes=max_n_genes,filter_mincells=args.min_c,percent_mito = 100,\n",
    "                        filter_mingenes=args.min_g,normalize=True,log=True,remove_genes=r_genes)"
   ]
  }
 ],
 "metadata": {
  "kernelspec": {
   "display_name": "Python 3",
   "language": "python",
   "name": "python3"
  },
  "language_info": {
   "codemirror_mode": {
    "name": "ipython",
    "version": 3
   },
   "file_extension": ".py",
   "mimetype": "text/x-python",
   "name": "python",
   "nbconvert_exporter": "python",
   "pygments_lexer": "ipython3",
   "version": "3.7.3"
  }
 },
 "nbformat": 4,
 "nbformat_minor": 2
}
